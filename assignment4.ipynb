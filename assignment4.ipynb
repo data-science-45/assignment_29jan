{
 "cells": [
  {
   "cell_type": "markdown",
   "metadata": {},
   "source": [
    "Q1"
   ]
  },
  {
   "cell_type": "markdown",
   "metadata": {},
   "source": [
    "The programming language Python was developed by Guido van Rossum in the late 1980s at Centrum Wiskunde & Informatica (CWI) in the Netherlands as a successor to the ABC programming language"
   ]
  },
  {
   "cell_type": "markdown",
   "metadata": {},
   "source": [
    "Q2"
   ]
  },
  {
   "cell_type": "markdown",
   "metadata": {},
   "source": [
    "Python is a multi-paradigm programming language that supports several programming styles, including object-oriented programming, structured programming, functional programming, and aspect-oriented programming"
   ]
  },
  {
   "cell_type": "markdown",
   "metadata": {},
   "source": [
    "Q3"
   ]
  },
  {
   "cell_type": "markdown",
   "metadata": {},
   "source": [
    "Yes, Python is a case-sensitive programming language, which means that the differentiation between lower- and uppercase letters is important for identifiers, keywords, and strings"
   ]
  },
  {
   "cell_type": "markdown",
   "metadata": {},
   "source": [
    "Q4"
   ]
  },
  {
   "cell_type": "markdown",
   "metadata": {},
   "source": [
    "the correct extension for a Python file is .py"
   ]
  },
  {
   "cell_type": "markdown",
   "metadata": {},
   "source": [
    "Q5"
   ]
  },
  {
   "cell_type": "markdown",
   "metadata": {},
   "source": [
    "Python is an interpreted language, which means that the Python interpreter reads the source code of a Python program and executes it directly, without first converting it to a compiled format "
   ]
  },
  {
   "cell_type": "markdown",
   "metadata": {},
   "source": [
    "Q6"
   ]
  },
  {
   "cell_type": "markdown",
   "metadata": {},
   "source": [
    "In Python, a block of code is a piece of program text that is executed as a unit. The following are blocks: a module, a function body, and a class definition.\n",
    "\n",
    "Python uses indentation to define a block of code. A block of code in Python may consist of statements belonging to a control statement, a function, or a class"
   ]
  },
  {
   "cell_type": "markdown",
   "metadata": {},
   "source": [
    "Q7"
   ]
  },
  {
   "cell_type": "markdown",
   "metadata": {},
   "source": [
    "In Python, the hash character (#) is used to indicate a single-line comment. Any text that follows the hash character on the same line is ignored by the Python interprete"
   ]
  },
  {
   "cell_type": "markdown",
   "metadata": {},
   "source": [
    "Q8"
   ]
  },
  {
   "cell_type": "markdown",
   "metadata": {},
   "source": [
    "You can use the platform module to find the version of Python you are using. Here is an example Python program that uses the platform module to print the version of Python:"
   ]
  },
  {
   "cell_type": "code",
   "execution_count": 2,
   "metadata": {},
   "outputs": [
    {
     "name": "stdout",
     "output_type": "stream",
     "text": [
      "Python version:  3.8.0\n"
     ]
    }
   ],
   "source": [
    "import platform\n",
    "\n",
    "print(\"Python version: \", platform.python_version())"
   ]
  },
  {
   "cell_type": "markdown",
   "metadata": {},
   "source": [
    "Q9"
   ]
  },
  {
   "cell_type": "markdown",
   "metadata": {},
   "source": [
    "Python supports the creation of anonymous functions at runtime using a construct called lambda"
   ]
  },
  {
   "cell_type": "markdown",
   "metadata": {},
   "source": [
    "Q10"
   ]
  },
  {
   "cell_type": "markdown",
   "metadata": {},
   "source": [
    "In Python, pip is a package manager for Python packages, or modules if you like. The full-form of pip is pip installs packages. It is a recursive acronym, that can also mean pip installs python or preferred installer program"
   ]
  },
  {
   "cell_type": "markdown",
   "metadata": {},
   "source": [
    "Q11"
   ]
  },
  {
   "cell_type": "markdown",
   "metadata": {},
   "source": [
    "Python has a number of built-in functions that are always available. Here are some of the most commonly used built-in functions in Python:\n",
    "\n",
    "abs(): Returns the absolute value of a number.\n",
    "all(): Returns True if all elements of an iterable are true (or if the iterable is empty).\n",
    "any(): Returns True if any element of an iterable is true. If the iterable is empty, returns False.\n",
    "bin(): Converts an integer number to a binary string prefixed with “0b”.\n",
    "bool(): Returns a Boolean value, i.e., either True or False.\n",
    "chr(): Returns a string representing a character whose Unicode code point is the integer argument.\n",
    "float(): Returns a floating-point number from a number or a string.\n",
    "int(): Returns an integer object from a number or a string.\n",
    "len(): Returns the number of items in an object.\n",
    "max(): Returns the largest item in an iterable or the largest of two or more arguments.\n",
    "min(): Returns the smallest item in an iterable or the smallest of two or more arguments.\n",
    "print(): Prints the specified message to the screen, or other standard output device.\n",
    "range(): Returns a sequence of numbers, starting from 0 and incrementing by 1 (by default), and stopping before a specified number.\n",
    "str(): Returns a string object from an object that can be interpreted as a string.\n",
    "type(): Returns the type of an object.\n",
    "I hope this helps! Let me know if you have any other questions."
   ]
  },
  {
   "cell_type": "markdown",
   "metadata": {},
   "source": [
    "Q12"
   ]
  },
  {
   "cell_type": "markdown",
   "metadata": {},
   "source": [
    "In Python, the highest possible length of an identifier is 79 characters"
   ]
  },
  {
   "cell_type": "markdown",
   "metadata": {},
   "source": [
    "Q13"
   ]
  },
  {
   "cell_type": "markdown",
   "metadata": {},
   "source": [
    "Python is a popular programming language that has many benefits. Here are some of the most significant benefits of using Python:\n",
    "\n",
    "Easy to learn and use: Python has a simple and easy-to-learn syntax that makes it an ideal language for beginners. It is also easy to read and write, which makes it easier to maintain and debug code.\n",
    "\n",
    "Large standard library: Python has a large standard library that provides many useful modules and functions that can be used to perform a wide range of tasks, from web development to scientific computing.\n",
    "\n",
    "Cross-platform compatibility: Python is a cross-platform language, which means that it can run on many different operating systems, including Windows, macOS, and Linux.\n",
    "\n",
    "Open-source and free: Python is an open-source language, which means that it is free to use and distribute. This makes it an ideal choice for small businesses and startups that have limited budgets.\n",
    "\n",
    "Versatile and flexible: Python is a versatile language that can be used for a wide range of applications, including web development, scientific computing, data analysis, artificial intelligence, and more.\n",
    "\n",
    "Large community: Python has a large and active community of developers who contribute to the language by creating new libraries, modules, and tools. This community provides support and resources for developers who are learning and using Python."
   ]
  },
  {
   "cell_type": "markdown",
   "metadata": {},
   "source": [
    "Q14"
   ]
  },
  {
   "cell_type": "markdown",
   "metadata": {},
   "source": [
    "Python uses a memory management system called reference counting to manage the memory used by objects in the program. This system keeps track of how many references to an object exist in the program, and when there are no more references, the memory used by the object is freed.\n",
    "\n",
    "Python also uses a garbage collector to automatically free up memory that is no longer being used by the program . The garbage collector periodically checks the memory used by the program and frees up any memory that is no longer being used .\n",
    "\n",
    "Python’s memory management system makes it easy to write code without worrying about memory allocation and deallocation . However, it is still important to be aware of memory usage in your program, especially when working with large datasets or long-running programs ."
   ]
  },
  {
   "cell_type": "markdown",
   "metadata": {},
   "source": [
    "Q15"
   ]
  },
  {
   "cell_type": "markdown",
   "metadata": {},
   "source": [
    "Here are the steps to install Python on Windows and set up the path variable:\n",
    "\n",
    "Download the latest version of Python from the official website .\n",
    "Run the installer and select the “Add Python to PATH” option .\n",
    "Follow the prompts to complete the installation.\n",
    "To verify that Python is installed correctly, open a command prompt and type python --version. This should display the version of Python that you just installed.\n",
    "To set up the path variable, right-click on “This PC” and select “Properties”.\n",
    "Click on “Advanced system settings” and then click on the “Environment Variables” button.\n",
    "Under “System Variables”, scroll down and find the “Path” variable. Click on “Edit”.\n",
    "Click on “New” and add the path to the Python executable. The path should look something like this: C:\\Python39\\.\n",
    "Click “OK” to close all the windows.\n",
    "To verify that the path variable is set up correctly, open a new command prompt and type python. This should start the Python interpreter"
   ]
  },
  {
   "cell_type": "markdown",
   "metadata": {},
   "source": [
    "Q16"
   ]
  },
  {
   "cell_type": "markdown",
   "metadata": {},
   "source": [
    "Yes, indentation is required in Python. Python uses indentation to define blocks of code, such as loops, conditional statements, and function definitions"
   ]
  }
 ],
 "metadata": {
  "kernelspec": {
   "display_name": "Python 3",
   "language": "python",
   "name": "python3"
  },
  "language_info": {
   "codemirror_mode": {
    "name": "ipython",
    "version": 3
   },
   "file_extension": ".py",
   "mimetype": "text/x-python",
   "name": "python",
   "nbconvert_exporter": "python",
   "pygments_lexer": "ipython3",
   "version": "3.8.0"
  }
 },
 "nbformat": 4,
 "nbformat_minor": 2
}
